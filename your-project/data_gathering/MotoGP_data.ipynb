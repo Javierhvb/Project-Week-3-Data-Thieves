{
 "cells": [
  {
   "cell_type": "code",
   "execution_count": 26,
   "metadata": {
    "colab": {
     "base_uri": "https://localhost:8080/",
     "height": 122
    },
    "colab_type": "code",
    "id": "BJdBc6VBuNsR",
    "outputId": "e5c72c26-8acb-40de-8c7f-4985407f5c2f"
   },
   "outputs": [],
   "source": [
    "import requests\n",
    "import json\n",
    "from bs4 import BeautifulSoup\n",
    "import pandas as pd\n",
    "import numpy as np\n",
    "import re"
   ]
  },
  {
   "cell_type": "code",
   "execution_count": 27,
   "metadata": {
    "colab": {},
    "colab_type": "code",
    "id": "TFEhY5j35IW8"
   },
   "outputs": [],
   "source": [
    "# Define the base url to concatenate url strings\n",
    "urlBase = \"https://www.motogp.com\""
   ]
  },
  {
   "cell_type": "code",
   "execution_count": 154,
   "metadata": {
    "colab": {},
    "colab_type": "code",
    "id": "ZAHNG3yjuQUV"
   },
   "outputs": [],
   "source": [
    "# Returns JSON\n",
    "def getCircuits(year):\n",
    "    endpoint = urlBase + \"/en/ajax/results/selector/\" + str(year)\n",
    "    req = requests.get(endpoint)\n",
    "    return req.json()\n",
    "\n",
    "# DataFrame Cleaning\n",
    "def dfCircuits(startYear, endYear):\n",
    "    df_Circuits = pd.DataFrame(columns=['Shortname', 'Title', 'Circuit', 'Year'])\n",
    "    for i in range(startYear, endYear+1):\n",
    "        circ = getCircuits(i)\n",
    "        for key in circ:\n",
    "            df_Circuits = df_Circuits.append({'Shortname': circ[key]['shortname'], 'Title': circ[key]['title'], 'Circuit': circ[key]['circuit'], 'Year' : str(i)}, ignore_index=True)\n",
    "    return df_Circuits\n",
    " \n",
    "# Returns HTML | This shows the final ranking\n",
    "def getDriversTableYear(year):\n",
    "    endpoint = urlBase + \"/en/ajax/results/parse_final_standing/\" + str(year)\n",
    "    req = requests.get(endpoint)\n",
    "    soup = BeautifulSoup(req.content, 'html.parser')\n",
    "    return soup\n",
    "\n",
    "# HTML Cleaning AJAX DriversTable | Returns Dictionary\n",
    "def htmlCleanDriversTable( year ):\n",
    "    html = getDriversTableYear(year)\n",
    "    drivers = html.find_all('td')\n",
    "    drivers_table = [i.text.split() for i in drivers]\n",
    "    drivers_table\n",
    "    counter = 0\n",
    "    pos = []\n",
    "    driver_name = []\n",
    "    motorbike = []\n",
    "    nationality = []\n",
    "    points = []\n",
    "    years = []\n",
    "    for i in range(0,len(drivers_table)):\n",
    "        years.append(year)\n",
    "        if counter == 0:\n",
    "            counter +=1\n",
    "            pos.append(drivers_table[i][0])\n",
    "        elif counter == 1:\n",
    "            counter +=1\n",
    "            try:\n",
    "                  driver_name.append(drivers_table[i][0] + ' ' + drivers_table[i][1])\n",
    "            except:\n",
    "                  driver_name.append('NaN')\n",
    "        elif counter == 2:\n",
    "            try:\n",
    "                  motorbike.append(drivers_table[i][0])\n",
    "            except:\n",
    "                  motorbike.append('NaN')\n",
    "            counter +=1\n",
    "        elif counter == 3:\n",
    "            try:\n",
    "                  nationality.append(drivers_table[i][0])\n",
    "            except:\n",
    "                  nationality.append('NaN')\n",
    "            counter +=1\n",
    "        elif counter == 4:\n",
    "            try:\n",
    "                  points.append(drivers_table[i][0])\n",
    "            except:\n",
    "                  points.append('NaN')\n",
    "            counter = 0\n",
    "    d = {'Position': pos, 'Driver' : driver_name, 'Motorbike' : motorbike, 'Nationality' : nationality, 'Points' : points, 'Year' : year}\n",
    "    return d\n",
    "    \n",
    "# Returns HTML | This gets the final chart by race \n",
    "def getWinnersCircuit(circuit, year):\n",
    "    url = urlBase + \"/en/ajax/results/files/\" + str(year) + \"/\" + circuit  + \"/500cc/RAC\"\n",
    "    req = requests.get(url)\n",
    "\n",
    "    return req\n",
    "\n",
    "def getCategory(year):\n",
    "    endpoint = urlBase + \"en/ajax/results/selector/\" + str(year) + \"/VEN\"\n",
    "    return endpoint\n",
    "\n",
    "# Create Dataframes with JSON Inputs\n",
    "def dataToJson(data):\n",
    "    return pd.DataFrame(data.json())\n"
   ]
  },
  {
   "cell_type": "code",
   "execution_count": 157,
   "metadata": {},
   "outputs": [],
   "source": [
    "header = ['Position', 'Driver', 'Motorbike', 'Nationality', 'Points', 'Year']\n",
    "df_winners = pd.DataFrame(columns=header)\n",
    "for i in range(1950, 2020):\n",
    "    di = htmlCleanDriversTable(i)\n",
    "    df = pd.DataFrame(di)\n",
    "    df_winners = pd.concat([df_winners, df])\n"
   ]
  },
  {
   "cell_type": "code",
   "execution_count": 166,
   "metadata": {},
   "outputs": [
    {
     "data": {
      "text/html": [
       "<div>\n",
       "<style scoped>\n",
       "    .dataframe tbody tr th:only-of-type {\n",
       "        vertical-align: middle;\n",
       "    }\n",
       "\n",
       "    .dataframe tbody tr th {\n",
       "        vertical-align: top;\n",
       "    }\n",
       "\n",
       "    .dataframe thead th {\n",
       "        text-align: right;\n",
       "    }\n",
       "</style>\n",
       "<table border=\"1\" class=\"dataframe\">\n",
       "  <thead>\n",
       "    <tr style=\"text-align: right;\">\n",
       "      <th></th>\n",
       "      <th>Position</th>\n",
       "      <th>Driver</th>\n",
       "      <th>Motorbike</th>\n",
       "      <th>Nationality</th>\n",
       "      <th>Points</th>\n",
       "      <th>Year</th>\n",
       "    </tr>\n",
       "  </thead>\n",
       "  <tbody>\n",
       "    <tr>\n",
       "      <th>22</th>\n",
       "      <td>20</td>\n",
       "      <td>Nello PAGANI</td>\n",
       "      <td>MV</td>\n",
       "      <td>ITA</td>\n",
       "      <td>2</td>\n",
       "      <td>1955</td>\n",
       "    </tr>\n",
       "  </tbody>\n",
       "</table>\n",
       "</div>"
      ],
      "text/plain": [
       "   Position        Driver Motorbike Nationality Points  Year\n",
       "22       20  Nello PAGANI        MV         ITA      2  1955"
      ]
     },
     "execution_count": 166,
     "metadata": {},
     "output_type": "execute_result"
    }
   ],
   "source": [
    "df_winners.sample()"
   ]
  },
  {
   "cell_type": "code",
   "execution_count": 167,
   "metadata": {},
   "outputs": [],
   "source": [
    "#df_winners.to_csv('../csv_files/motogp_yearly_table.csv')"
   ]
  },
  {
   "cell_type": "code",
   "execution_count": null,
   "metadata": {},
   "outputs": [],
   "source": []
  }
 ],
 "metadata": {
  "colab": {
   "name": "Project 3 - Barcelona.ipynb",
   "provenance": []
  },
  "kernelspec": {
   "display_name": "Python 3",
   "language": "python",
   "name": "python3"
  },
  "language_info": {
   "codemirror_mode": {
    "name": "ipython",
    "version": 3
   },
   "file_extension": ".py",
   "mimetype": "text/x-python",
   "name": "python",
   "nbconvert_exporter": "python",
   "pygments_lexer": "ipython3",
   "version": "3.7.6"
  }
 },
 "nbformat": 4,
 "nbformat_minor": 1
}
